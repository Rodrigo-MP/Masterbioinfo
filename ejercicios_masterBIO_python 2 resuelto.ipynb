{
 "cells": [
  {
   "cell_type": "markdown",
   "metadata": {},
   "source": [
    "# Máster en Bioinformática Aplicada a Medicina Personalizada y Salud \n",
    "# curso 2019-2020"
   ]
  },
  {
   "cell_type": "markdown",
   "metadata": {},
   "source": [
    "# Nombre y apellidos:"
   ]
  },
  {
   "cell_type": "code",
   "execution_count": null,
   "metadata": {},
   "outputs": [],
   "source": [
    "# Pruebas\n",
    "lista_elementos = [1,2,3,4,5,6]\n",
    "elemento_a_buscar = 3\n",
    "for elemento in lista_elementos :\n",
    "    if elemento == elemento_a_buscar :\n",
    "       print('El elemento existe en la lista')"
   ]
  },
  {
   "cell_type": "code",
   "execution_count": null,
   "metadata": {},
   "outputs": [],
   "source": [
    "friends = ['Joseph', 'Glenn', 'Sally']\n",
    "for friend in friends:\n",
    "print('Happy New Year:',friend)\n",
    "print('Done!')"
   ]
  },
  {
   "cell_type": "code",
   "execution_count": 36,
   "metadata": {},
   "outputs": [
    {
     "name": "stdout",
     "output_type": "stream",
     "text": [
      "C:\n",
      "opath\n",
      "C:\\nopath\n",
      "C:\\nopath\n",
      "C:\\path\n",
      "6\n",
      "['En', 'un', 'lugar', 'de', 'la', 'mancha']\n",
      "En un lugar\n"
     ]
    }
   ],
   "source": [
    "### Cadenas\n",
    "print('C:\\nopath')\n",
    "print(r'C:\\nopath')\n",
    "print('C:\\\\nopath\\nC:\\path')\n",
    "### find\n",
    "frase = 'En un lugar de la mancha'\n",
    "pos = frase.find('lugar')\n",
    "print(pos)\n",
    "### split\n",
    "frase = 'En un lugar de la mancha'\n",
    "palabras=frase.split(' ')\n",
    "print(palabras)\n",
    "### strip\n",
    "frase = \"       En un lugar\"\n",
    "frase = frase.strip()\n",
    "print(frase)\n",
    "\n",
    "#### Programita que compara 2 numeros que les metemos\n",
    "\n",
    "num1 = int(input('Inserta el primer numero '))\n",
    "num2 = int(input('Inserta el segundo numero '))\n",
    "if num1 > num2:\n",
    "    print(num1,\"es mayor que\",num2)\n",
    "elif num2 > num1:\n",
    "    print(num2,\"es mayor que\",num1)\n",
    "else:\n",
    "    print(num1,\"es igual que\",num2)\n",
    "    \n",
    "    "
   ]
  },
  {
   "cell_type": "markdown",
   "metadata": {},
   "source": [
    "## Ejercicio 1\n",
    "1. Crear una lista con el nombre de 6 aminoácidos\n",
    "2. Insertar uno más al final\n",
    "3. Pedir el nombre de uno de ellos al usuario y eliminarlo\n",
    "4. Ordenar la lista alfabéticamente\n",
    "5. Imprimir el número de elementos de la lista\n",
    "\n",
    "Imprimir la lista después de cada paso"
   ]
  },
  {
   "cell_type": "code",
   "execution_count": 3,
   "metadata": {},
   "outputs": [
    {
     "name": "stdout",
     "output_type": "stream",
     "text": [
      "['triptofano', 'glicina', 'alanina', 'valina', 'lisina']\n",
      "['triptofano', 'glicina', 'alanina', 'valina', 'lisina', 'leucina']\n",
      "Introduce un aminoacido:triptofano\n",
      "['glicina', 'alanina', 'valina', 'lisina', 'leucina']\n",
      "['alanina', 'glicina', 'leucina', 'lisina', 'valina']\n"
     ]
    },
    {
     "data": {
      "text/plain": [
       "5"
      ]
     },
     "execution_count": 3,
     "metadata": {},
     "output_type": "execute_result"
    }
   ],
   "source": [
    "# Solución\n",
    "# 1\n",
    "aminoacidos = ['triptofano','glicina', 'alanina', 'valina', 'lisina']\n",
    "print(aminoacidos)\n",
    "# 2\n",
    "A = ['leucina']\n",
    "aminoacidos.extend(A)\n",
    "print(aminoacidos)\n",
    "# 3\n",
    "aminoacido = input(\"Introduce un aminoacido:\")\n",
    "if aminoacido in aminoacidos :\n",
    "    aminoacidos.remove(aminoacido)\n",
    "print(aminoacidos)\n",
    "# 4\n",
    "aminoacidos.sort()\n",
    "print(aminoacidos)\n",
    "# 5\n",
    "len(aminoacidos)\n"
   ]
  },
  {
   "cell_type": "markdown",
   "metadata": {},
   "source": [
    "## Ejercicio 2\n",
    "Ordenar una lista manteniendo una copia de la versión original."
   ]
  },
  {
   "cell_type": "code",
   "execution_count": 7,
   "metadata": {},
   "outputs": [
    {
     "name": "stdout",
     "output_type": "stream",
     "text": [
      "None\n",
      "[1, 4, 5, 7, 9, 78]\n",
      "[1, 7, 5, 4, 78, 9]\n",
      "[1, 4, 5, 7, 9, 78]\n",
      "[1, 2, 3, 4, 5, 23]\n",
      "[1, 2, 3, 4, 5, 23]\n"
     ]
    }
   ],
   "source": [
    "# Solución\n",
    "lista = [1,7,5,4,78,9]\n",
    "lista_ordenada = lista.sort()\n",
    "print(lista_ordenada)\n",
    "print(lista)\n",
    "lista = [1,7,5,4,78,9]\n",
    "lista_ordenada = sorted(lista)\n",
    "print(lista)\n",
    "print(lista_ordenada)\n",
    "\n",
    "lista1 = [1,2,3,4,5]\n",
    "lista2 = lista1\n",
    "x = 23\n",
    "lista2.append(x)\n",
    "print(lista2)\n",
    "print(lista1)\n"
   ]
  },
  {
   "cell_type": "markdown",
   "metadata": {},
   "source": [
    "## Ejercicio 3\n",
    "Escribir un programa que pida al usuario números enteros hasta que introduzca un 0. Al finalizar el programa debe mostrar la cantidad de números introducidos."
   ]
  },
  {
   "cell_type": "code",
   "execution_count": 3,
   "metadata": {},
   "outputs": [],
   "source": [
    "# Solución"
   ]
  },
  {
   "cell_type": "markdown",
   "metadata": {},
   "source": [
    "## Ejercicio 4\n",
    "Pedir al usuario una cadena de adn y contar cuántas veces aparece cada una de las bases.\n",
    "Hacer que esto se repita en un bucle infinito que vaya pidiendo distintas cadenas. El programa finalizará si se teclea la palabra fin."
   ]
  },
  {
   "cell_type": "code",
   "execution_count": 4,
   "metadata": {},
   "outputs": [],
   "source": [
    "# Solución"
   ]
  },
  {
   "cell_type": "markdown",
   "metadata": {},
   "source": [
    "## Ejercicio 5\n",
    "Mostrar por pantalla las tablas de multiplicar del 1 al 9. \n",
    "Deberá aparecer algo como:\n",
    "\n",
    "\t1*1 es 1\n",
    "\t1*2 es 2\n",
    "\t1*3 es 3\n",
    "          …"
   ]
  },
  {
   "cell_type": "code",
   "execution_count": 5,
   "metadata": {},
   "outputs": [],
   "source": [
    "# Solución"
   ]
  },
  {
   "cell_type": "markdown",
   "metadata": {},
   "source": [
    "## Ejercicio 6\n",
    "1. Crear un diccionario con el nombre de un animal como clave, y su nombre en latín como valor.\n",
    "2. Todos los datos se irán pidiendo al usuario por pantalla.\n",
    "3. Cada vez que se introduzcan los datos de un animal se imprimirán todos los datos del diccionario.\n",
    "4. Si un animal ya se ha introducido se le dirá al usuario."
   ]
  },
  {
   "cell_type": "code",
   "execution_count": 6,
   "metadata": {},
   "outputs": [],
   "source": [
    "# Solución"
   ]
  },
  {
   "cell_type": "markdown",
   "metadata": {},
   "source": [
    "## Ejercicio 7\n",
    "1. Crear un diccionario con el nombre de las 4 bases nitrogenadas del adn como clave y como valor  otro diccionario con dos elementos: la primera clave es ‘abreviatura’ y la segunda ‘tipo’ (indicando si es púrica o pirimídica).\n",
    "2. Acceder al diccionario para imprimir las abreviaturas.\n",
    "3. Insertar el uracilo. \n",
    "4. Volver a acceder al diccionario para imprimir las abreviaturas.\n",
    "5. Imprimir los nombres de todos las bases, abreviatura y tipo con algún tipo de formato"
   ]
  },
  {
   "cell_type": "code",
   "execution_count": 7,
   "metadata": {},
   "outputs": [],
   "source": [
    "# Solución"
   ]
  },
  {
   "cell_type": "markdown",
   "metadata": {},
   "source": [
    "## Ejercicio 8\n",
    "Realizar un programa que pida al usuario el nombre de un fichero, lo abra, cuente cuántas palabras de cada tipo existen y lo muestre por pantalla."
   ]
  },
  {
   "cell_type": "code",
   "execution_count": 8,
   "metadata": {},
   "outputs": [],
   "source": [
    "# Solución"
   ]
  },
  {
   "cell_type": "markdown",
   "metadata": {},
   "source": [
    "## Ejercicio 9\n",
    "Abrir un fichero de genbank con datos de adn.\n",
    "\n",
    "Contar cuántas veces aparece cada una de las bases en la cadena de DNA.\n",
    "\n",
    "Usando un diccionario que tiene como clave los codones y como valor el  aminoácido correspondiente, convertir todo el DNA en aminoácidos y guardarlo en un fichero llamado amino.txt. \n",
    "\n",
    "Contar cuántos aminoácidos de cada tipo hay.\n",
    "\n",
    "Por pantalla solicitar al usuario un porcentaje y mostrar cuáles son los aminoácidos por encima de ese porcentaje."
   ]
  },
  {
   "cell_type": "code",
   "execution_count": 9,
   "metadata": {},
   "outputs": [],
   "source": [
    "# Solución"
   ]
  },
  {
   "cell_type": "markdown",
   "metadata": {},
   "source": [
    "## Ejercicio 10\n",
    "Escribir un programa que pida al usuario el número del que se quiere calcular el factorial:\n",
    "\t\n",
    "    a) Definir una función que calcule el factorial del número. \n",
    "    b) Definir una función que calcule el factorial del número de manera recursiva. "
   ]
  },
  {
   "cell_type": "code",
   "execution_count": 12,
   "metadata": {},
   "outputs": [],
   "source": [
    "# Solución a"
   ]
  },
  {
   "cell_type": "code",
   "execution_count": null,
   "metadata": {},
   "outputs": [],
   "source": [
    "# Solución b"
   ]
  },
  {
   "cell_type": "markdown",
   "metadata": {},
   "source": [
    "## Ejercicio 11\n",
    "Definir una función que convierta codones en aminoácidos."
   ]
  },
  {
   "cell_type": "code",
   "execution_count": 13,
   "metadata": {},
   "outputs": [],
   "source": [
    "# Solución"
   ]
  },
  {
   "cell_type": "markdown",
   "metadata": {},
   "source": [
    "## Ejercicio 12\n",
    "Definir una función que calcule la media de una lista de valores numéricos."
   ]
  },
  {
   "cell_type": "code",
   "execution_count": null,
   "metadata": {},
   "outputs": [],
   "source": [
    "# Solución"
   ]
  },
  {
   "cell_type": "markdown",
   "metadata": {},
   "source": [
    "## Ejercicio 13\n",
    "Definir una función que multiplique dos matrices de 4*4\n",
    "\n",
    "Redefinir la función para que pueda multiplicar matrices de cualquier tamaño\n",
    "\n",
    "Hacer un programa que pida al usuario el tamaño de las matrices a multiplicar, recoja por teclado los datos de las dos matrices y las multiplique\n",
    "\n",
    "Hacer un programa que pida al usuario el nombre de dos ficheros donde se encuentran guardadas sendas matrices, las lea y las multiplique guardando el resultado en un fichero cuyo nombre se ha pedido al usuario"
   ]
  },
  {
   "cell_type": "code",
   "execution_count": null,
   "metadata": {},
   "outputs": [],
   "source": [
    "# Solución"
   ]
  },
  {
   "cell_type": "markdown",
   "metadata": {},
   "source": [
    "## Ejercicio 14\n",
    "Crear una función que reciba una cadena de ADN y la convierta en una de ARN."
   ]
  },
  {
   "cell_type": "code",
   "execution_count": null,
   "metadata": {},
   "outputs": [],
   "source": [
    "# Solución"
   ]
  },
  {
   "cell_type": "markdown",
   "metadata": {},
   "source": [
    "## Ejercicio 15\n",
    "Para el siguiente código:\n",
    "\n",
    "\tre.match(‘(.*)(cat)(.*)', ‘the cat in the hat’)\n",
    "\t\t\n",
    "Determinar qué se identifica en cada uno de los grupos.\n",
    "\n",
    "Hacer lo mismo con:\n",
    "\n",
    "\tre.match(‘(.*)(at)(.*)', ‘the cat in the hat’)\n"
   ]
  },
  {
   "cell_type": "code",
   "execution_count": null,
   "metadata": {},
   "outputs": [],
   "source": [
    "# Solución"
   ]
  },
  {
   "cell_type": "markdown",
   "metadata": {},
   "source": [
    "## Ejercicio 16\n",
    "En PERL los nombres de variable se forman igual que en Python pero van precedidos del símbolo $.\n",
    "\n",
    "Crear un programa que pida al usuario una palabra y diga si es una variable legal de PERL\n"
   ]
  },
  {
   "cell_type": "code",
   "execution_count": 15,
   "metadata": {},
   "outputs": [],
   "source": [
    "# Solución"
   ]
  },
  {
   "cell_type": "markdown",
   "metadata": {},
   "source": [
    "## Ejercicio 17\n",
    "En Python los números en punto flotante pueden aparecer con los siguientes formatos:\n",
    "\n",
    "    1.23\n",
    "    1.\n",
    "    3.14e-10\n",
    "    4E21\n",
    "    4.0e+45\n",
    "\n",
    "Crear un programa que pida al usuario un número y diga si es un número en punto flotante"
   ]
  },
  {
   "cell_type": "code",
   "execution_count": 19,
   "metadata": {},
   "outputs": [],
   "source": [
    "# Solución"
   ]
  },
  {
   "cell_type": "markdown",
   "metadata": {},
   "source": [
    "## Ejercicio 18\n",
    "Crear un programa que abra el fichero GenBank.gb y haga lo siguiente:\n",
    "1. Guarde en un fichero toda la información que no se corresponda con los datos de una secuencia de ADN.\n",
    "2. Guarde en otro fichero los datos de secuencia.\n",
    "3. Analice cada línea de secuencia e indique en qué líneas aparece tca y en qué posición dentro de la línea.\n"
   ]
  },
  {
   "cell_type": "code",
   "execution_count": 20,
   "metadata": {},
   "outputs": [],
   "source": [
    "# Solución"
   ]
  },
  {
   "cell_type": "markdown",
   "metadata": {},
   "source": [
    "## Ejercicio 19\n",
    "Crear un programa pida al usuario el nombre de un directorio, busque en este directorio todos los ficheros de tipo GenBank (extension.gb), los abra y diga de qué organismo contiene datos.\n",
    "\n",
    "Mejorarlo para que mire también en los subdirectorios del directorio dado."
   ]
  },
  {
   "cell_type": "code",
   "execution_count": 21,
   "metadata": {},
   "outputs": [],
   "source": [
    "# Solución"
   ]
  },
  {
   "cell_type": "markdown",
   "metadata": {},
   "source": [
    "## Ejercicio 20\n",
    "Queremos almacenar los artículos que leemos en una base de datos (BD), pero no nos gusta ninguna de las disponibles, por lo tanto vamos a construirla nosotros mismos.\n",
    "\n",
    "La BD será una lista de diccionarios. Cada diccionario consta de 5 campos: Título del artículo, autores, revista, fecha y el nombre del fichero donde guardamos un resumen del artículo.\n",
    "\n",
    "El programa nos permitirá hacer una serie de cosas, elegidas por un menú:\n",
    "\t1. Introducir un nuevo elemento, esto implicará salvarlo en un archivo.\n",
    "\t2. Listar todos los artículos, especificando los 4 primeros campos.\n",
    "\t3. Buscar si existe un artículo dando una palabra clave del título.\n",
    "\t4. Buscar si existe un artículo dando el nombre de un autor\n",
    "\t5. Listar todos los artículos de una determinada revista.\n",
    "    \n",
    "Cada vez que se arranca el programa deberán recuperarse los datos almacenados previamente.\n"
   ]
  },
  {
   "cell_type": "code",
   "execution_count": null,
   "metadata": {},
   "outputs": [],
   "source": [
    "# Solución"
   ]
  }
 ],
 "metadata": {
  "kernelspec": {
   "display_name": "Python 3",
   "language": "python",
   "name": "python3"
  },
  "language_info": {
   "codemirror_mode": {
    "name": "ipython",
    "version": 3
   },
   "file_extension": ".py",
   "mimetype": "text/x-python",
   "name": "python",
   "nbconvert_exporter": "python",
   "pygments_lexer": "ipython3",
   "version": "3.7.3"
  }
 },
 "nbformat": 4,
 "nbformat_minor": 2
}
